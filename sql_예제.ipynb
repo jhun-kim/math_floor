{
 "cells": [
  {
   "cell_type": "markdown",
   "metadata": {},
   "source": [
    "6.2 Python에서 MySQL 접속하기"
   ]
  },
  {
   "cell_type": "markdown",
   "metadata": {},
   "source": [
    "6.2.3 Python에서 MySQL 접속 예시"
   ]
  },
  {
   "cell_type": "code",
   "execution_count": null,
   "metadata": {},
   "outputs": [],
   "source": [
    "# STEP 1\n",
    "import pymysql\n",
    "\n",
    "# STEP 2: MySQL Connection 연결\n",
    "con = pymysql.connect(host='localhost', user='mysql_user_id', password='_password_',\n",
    "                       db='access_db', charset='utf8') # 한글처리 (charset = 'utf8')\n",
    " \n",
    "# STEP 3: Connection 으로부터 Cursor 생성\n",
    "cur = con.cursor()\n",
    " \n",
    "# STEP 4: SQL문 실행 및 Fetch\n",
    "sql = \"SELECT player, birth FROM baseball\"\n",
    "cur.execute(sql)\n",
    " \n",
    "# 데이타 Fetch\n",
    "rows = cur.fetchall()\n",
    "print(rows)     # 전체 rows\n",
    "\n",
    "# STEP 5: DB 연결 종료\n",
    "con.close()"
   ]
  },
  {
   "cell_type": "markdown",
   "metadata": {},
   "source": [
    "6.2.4 Python에서 MySQL 실습"
   ]
  },
  {
   "cell_type": "code",
   "execution_count": null,
   "metadata": {},
   "outputs": [],
   "source": [
    "import pymysql\n",
    "import pandas as pd\n",
    "\n",
    "con = pymysql.connect(host='localhost', user='mysql_user_id', password='_password_',\n",
    "                      db='access_db', charset='utf8', # 한글처리 (charset = 'utf8')\n",
    "                      autocommit=True, # 결과 DB 반영 (Insert or update)\n",
    "                      cursorclass=pymysql.cursors.DictCursor # DB조회시 컬럼명을 동시에 보여줌\n",
    "                     )\n",
    "cur = con.cursor()"
   ]
  },
  {
   "cell_type": "markdown",
   "metadata": {},
   "source": [
    "특정 테이블 불러오기"
   ]
  },
  {
   "cell_type": "code",
   "execution_count": null,
   "metadata": {},
   "outputs": [],
   "source": [
    "sql = \"SELECT * FROM customers\" # customers 테이블 전체를 불러옴\n",
    "cur.execute(sql)\n",
    "rows = cur.fetchall()\n",
    "con.close() # DB 연결 종료\n",
    "print(rows)"
   ]
  },
  {
   "cell_type": "markdown",
   "metadata": {},
   "source": [
    "데이터 전처리"
   ]
  },
  {
   "cell_type": "code",
   "execution_count": null,
   "metadata": {},
   "outputs": [],
   "source": [
    "idx = customers[(customers['성별'] != 1) & (customers['성별'] != 2)].index\n",
    "customers.drop(idx, inplace=True) # 성별이 1 또는 2가 아닌 행 제거\n",
    "\n",
    "customers.loc[customers['성별'] == 1, '성별'] = '남성' # 1 ==> 남성\n",
    "customers.loc[customers['성별'] == 2, '성별'] = '여성' # 2 ==> 여성"
   ]
  },
  {
   "cell_type": "markdown",
   "metadata": {},
   "source": [
    "데이터 시각화\n",
    "여성들이 남성들에 비해 ‘2012구매금액’ 대비 ’2012구매건수’가 높은 경향을 보임"
   ]
  },
  {
   "cell_type": "code",
   "execution_count": null,
   "metadata": {},
   "outputs": [],
   "source": [
    "import plotly.express as px\n",
    "fig = px.histogram(customers, x=\"2012구매금액\", y=\"2012구매건수\", color=\"성별\", marginal=\"rug\")\n",
    "fig.show()"
   ]
  }
 ],
 "metadata": {
  "language_info": {
   "name": "python"
  },
  "orig_nbformat": 4
 },
 "nbformat": 4,
 "nbformat_minor": 2
}
