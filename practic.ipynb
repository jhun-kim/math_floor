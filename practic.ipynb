{
 "cells": [
  {
   "cell_type": "code",
   "execution_count": null,
   "metadata": {},
   "outputs": [],
   "source": [
    "def f(x, *args):\n",
    "    total = 0 \n",
    "    for i in a:\n",
    "        total += i \n",
    "    print(total)\n",
    "    \n",
    "f(1,2,3,4)\n",
    "\n"
   ]
  },
  {
   "cell_type": "code",
   "execution_count": null,
   "metadata": {},
   "outputs": [],
   "source": [
    "def sum(*args): #입력 매개변수는 list 또는 tuple 타입\n",
    "    total = 0\n",
    "    for num in args:\n",
    "        total = total + num\n",
    "    print(\"합계 : \", total, \",\", len(args))\n",
    "\n",
    "\n",
    "sum(1,2,3,4,5,6) #리스트 1개 입력\n",
    "# sum((5,5,5)) #튜플 1개 입력\n"
   ]
  },
  {
   "cell_type": "code",
   "execution_count": null,
   "metadata": {},
   "outputs": [],
   "source": [
    "def offsetSum(a, *args):\n",
    "    total = a\n",
    "    for num in args:\n",
    "        total = total + num\n",
    "    print(total)\n",
    "    \n",
    "\n",
    "\n",
    "a = 100\n",
    "\n",
    "offsetSum(a,1,2,3)\n",
    "offsetSum(a,5,1,3,2)\n"
   ]
  },
  {
   "cell_type": "code",
   "execution_count": null,
   "metadata": {},
   "outputs": [],
   "source": [
    "def saveDic(**kargs):\n",
    "    print(kargs)\n",
    "\n",
    "\n",
    "\n",
    "saveDic(a=1, b=2, c=3)\n",
    "saveDic(fru=\"사과\", veg=\"당근\")\n",
    "\n",
    "#딕셔너리로 출력 하고 싶을때 "
   ]
  },
  {
   "cell_type": "code",
   "execution_count": null,
   "metadata": {},
   "outputs": [],
   "source": [
    "s = [10,1,7,3]\n",
    "print(s.sort(reverse=True)) # s = [10,7,3,1]\n"
   ]
  },
  {
   "cell_type": "code",
   "execution_count": null,
   "metadata": {},
   "outputs": [],
   "source": [
    "portfolio = [{'name': 'AA', 'price': 32.2, 'shares': 100},\n",
    "{'name': 'IBM', 'price': 91.1, 'shares': 50},\n",
    "{'name': 'CAT', 'price': 83.44, 'shares': 150},\n",
    "{'name': 'MSFT', 'price': 51.23, 'shares': 200},\n",
    "{'name': 'GE', 'price': 40.37, 'shares': 95},\n",
    "{'name': 'MSFT', 'price': 65.1, 'shares': 50},\n",
    "{'name': 'IBM', 'price': 70.44, 'shares': 100}]\n",
    "\n",
    "\n",
    "def stock_name(s):\n",
    "    print(s['name'])\n",
    "    return s['name']\n",
    "\n",
    "portfolio.sort(key=stock_name)"
   ]
  },
  {
   "cell_type": "code",
   "execution_count": null,
   "metadata": {},
   "outputs": [],
   "source": [
    "import argparse\n",
    "\n",
    "parser = argparse.ArgumentParser()\n",
    "parser.add_argument(\"-d\", \"--decimal\", dest=\"decimal\", action=\"store\")          # extra value\n",
    "parser.add_argument(\"-f\", \"--fast\", dest=\"fast\", action=\"store_true\")           # existence/nonexistence\n",
    "args = parser.parse_args()\n",
    "\n",
    "print(args.decimal)\n",
    "print(args.fast)"
   ]
  },
  {
   "cell_type": "code",
   "execution_count": null,
   "metadata": {},
   "outputs": [],
   "source": [
    "import argparse\n",
    "\n",
    "parser = argparse.ArgumentParser()\n",
    "parser.add_argument(\"-d\", \"--decimal\", dest=\"decimal\", action=\"store\")          # extra value\n",
    "parser.add_argument(\"-f\", \"--fast\", dest=\"fast\", action=\"store_true\")           # existence/nonexistence\n",
    "args = parser.parse_args()\n",
    "\n",
    "if args.decimal == '1':\n",
    "    print(\"decimal is 1\")\n",
    "\n",
    "if args.fast:\n",
    "    print(\"-f option is used\")"
   ]
  },
  {
   "cell_type": "code",
   "execution_count": null,
   "metadata": {},
   "outputs": [],
   "source": [
    "import argparse\n",
    "\n",
    "parser = argparse.ArgumentParser()\n",
    "\n",
    "parser.add_argument(dest=\"dst\", action=\"store\")\n",
    "parser.add_argument(\"--qp\", dest=\"qp\", action=\"store\")\n",
    "parser.add_argument(\"--configure\", dest=\"configure\", action=\"store\")\n",
    "args = parser.parse_args()\n",
    "\n",
    "print(args.dst)\n",
    "print(args.qp)\n",
    "print(args.configure)"
   ]
  },
  {
   "cell_type": "code",
   "execution_count": null,
   "metadata": {},
   "outputs": [],
   "source": [
    "def connect(self, id_, pwd, pwdcert): \n",
    "        \n",
    "        os.system('taskkill /IM coStarter* /F /T')\n",
    "        os.system('taskkill /IM CpStart* /F /T')\n",
    "        os.system('taskkill /IM DibServer* /F /T')\n",
    "        os.system('wmic process where \"name like \\'%coStarter%\\'\" call terminate')\n",
    "        os.system('wmic process where \"name like \\'%CpStart%\\'\" call terminate')\n",
    "        os.system('wmic process where \"name like \\'%DibServer%\\'\" call terminate')\n",
    "        time.sleep(5)        \n",
    "\n",
    "        app = application.Application()\n",
    "        app.start('C:\\CREON\\STARTER\\coStarter.exe /prj:cp /id:{id_} /pwd:{pwd} /pwdcert:{pwdcert} /autostart'.format(\n",
    "                    id_=id_, pwd=pwd, pwdcert=pwdcert\n",
    "                ))\n",
    "        time.sleep(60)"
   ]
  },
  {
   "cell_type": "code",
   "execution_count": 1,
   "metadata": {},
   "outputs": [
    {
     "name": "stderr",
     "output_type": "stream",
     "text": [
      "c:\\python39-32\\lib\\site-packages\\pmdarima\\__init__.py:107: UserWarning: pmdarima support for 32-bit systems is ending with Python 3.10.Your system is not guaranteed to work going forward\n",
      "  _warnings.warn(\n"
     ]
    }
   ],
   "source": [
    "import FinanceDataReader as fdr\n",
    "import pandas as pd\n",
    "import matplotlib.pyplot as plt\n",
    "%matplotlib inline\n",
    "import numpy as np\n",
    "from pmdarima.arima import ndiffs\n",
    "import pmdarima as pm\n",
    "import seaborn as sns\n",
    "\n",
    "\n",
    "import warnings\n",
    "warnings.filterwarnings('ignore')\n"
   ]
  }
 ],
 "metadata": {
  "kernelspec": {
   "display_name": "Python 3.9.6 32-bit (system)",
   "language": "python",
   "name": "python3"
  },
  "language_info": {
   "codemirror_mode": {
    "name": "ipython",
    "version": 3
   },
   "file_extension": ".py",
   "mimetype": "text/x-python",
   "name": "python",
   "nbconvert_exporter": "python",
   "pygments_lexer": "ipython3",
   "version": "3.9.6"
  },
  "orig_nbformat": 4,
  "vscode": {
   "interpreter": {
    "hash": "5a3ade864a474f99863ce262ea0f7394b41cacd4513363f56cbf428fb2670e97"
   }
  }
 },
 "nbformat": 4,
 "nbformat_minor": 2
}
